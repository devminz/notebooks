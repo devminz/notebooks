{
 "cells": [
  {
   "cell_type": "code",
   "execution_count": 1,
   "metadata": {
    "collapsed": false
   },
   "outputs": [
    {
     "data": {
      "text/plain": [
       "True"
      ]
     },
     "execution_count": 1,
     "metadata": {},
     "output_type": "execute_result"
    }
   ],
   "source": [
    "# Check whether an object is callable \n",
    "callable(getattr)"
   ]
  },
  {
   "cell_type": "code",
   "execution_count": 2,
   "metadata": {
    "collapsed": false
   },
   "outputs": [
    {
     "data": {
      "text/plain": [
       "False"
      ]
     },
     "execution_count": 2,
     "metadata": {},
     "output_type": "execute_result"
    }
   ],
   "source": [
    "import os\n",
    "callable(os)"
   ]
  },
  {
   "cell_type": "code",
   "execution_count": 4,
   "metadata": {
    "collapsed": false
   },
   "outputs": [
    {
     "data": {
      "text/plain": [
       "{'In': ['',\n",
       "  u'callable(getattr)',\n",
       "  u'import os\\ncallable(os)',\n",
       "  u'# See Globals\\nglobals()',\n",
       "  u'# See Globals\\nglobals()'],\n",
       " 'Out': {1: True, 2: False, 3: {...}},\n",
       " '_': {...},\n",
       " '_1': True,\n",
       " '_2': False,\n",
       " '_3': {...},\n",
       " '__': False,\n",
       " '___': True,\n",
       " '__builtin__': <module '__builtin__' (built-in)>,\n",
       " '__builtins__': <module '__builtin__' (built-in)>,\n",
       " '__doc__': 'Automatically created module for IPython interactive environment',\n",
       " '__name__': '__main__',\n",
       " '__package__': None,\n",
       " '_dh': [u'/mnt/b/projects/new/github/notebooks'],\n",
       " '_i': u'# See Globals\\nglobals()',\n",
       " '_i1': u'callable(getattr)',\n",
       " '_i2': u'import os\\ncallable(os)',\n",
       " '_i3': u'# See Globals\\nglobals()',\n",
       " '_i4': u'# See Globals\\nglobals()',\n",
       " '_ih': ['',\n",
       "  u'callable(getattr)',\n",
       "  u'import os\\ncallable(os)',\n",
       "  u'# See Globals\\nglobals()',\n",
       "  u'# See Globals\\nglobals()'],\n",
       " '_ii': u'import os\\ncallable(os)',\n",
       " '_iii': u'callable(getattr)',\n",
       " '_oh': {1: True, 2: False, 3: {...}},\n",
       " '_sh': <module 'IPython.core.shadowns' from '/usr/local/lib/python2.7/dist-packages/IPython/core/shadowns.pyc'>,\n",
       " 'exit': <IPython.core.autocall.ZMQExitAutocall at 0x7fe8eb9b8390>,\n",
       " 'get_ipython': <bound method ZMQInteractiveShell.get_ipython of <ipykernel.zmqshell.ZMQInteractiveShell object at 0x7fe8eb9b2c10>>,\n",
       " 'os': <module 'os' from '/usr/lib/python2.7/os.pyc'>,\n",
       " 'quit': <IPython.core.autocall.ZMQExitAutocall at 0x7fe8eb9b8390>}"
      ]
     },
     "execution_count": 4,
     "metadata": {},
     "output_type": "execute_result"
    }
   ],
   "source": [
    "# See Globals\n",
    "globals()"
   ]
  },
  {
   "cell_type": "code",
   "execution_count": 5,
   "metadata": {
    "collapsed": false
   },
   "outputs": [
    {
     "data": {
      "text/plain": [
       "140638477921536"
      ]
     },
     "execution_count": 5,
     "metadata": {},
     "output_type": "execute_result"
    }
   ],
   "source": [
    "id(os)   # id  of an object "
   ]
  },
  {
   "cell_type": "code",
   "execution_count": 14,
   "metadata": {
    "collapsed": false
   },
   "outputs": [
    {
     "data": {
      "text/plain": [
       "<module 'csv' from '/usr/lib/python2.7/csv.pyc'>"
      ]
     },
     "execution_count": 14,
     "metadata": {},
     "output_type": "execute_result"
    }
   ],
   "source": [
    "# Importing Module Using Importlib \n",
    "# This is for importing a module by name string \n",
    "import sys\n",
    "from importlib  import import_module\n",
    "import_module('csv')  # import_module('modulename', 'packagename'=None) \n"
   ]
  }
 ],
 "metadata": {
  "kernelspec": {
   "display_name": "Python 2",
   "language": "python",
   "name": "python2"
  },
  "language_info": {
   "codemirror_mode": {
    "name": "ipython",
    "version": 2
   },
   "file_extension": ".py",
   "mimetype": "text/x-python",
   "name": "python",
   "nbconvert_exporter": "python",
   "pygments_lexer": "ipython2",
   "version": "2.7.6"
  }
 },
 "nbformat": 4,
 "nbformat_minor": 0
}
