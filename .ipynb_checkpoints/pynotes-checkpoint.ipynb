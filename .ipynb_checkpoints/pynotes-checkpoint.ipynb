{
 "cells": [
  {
   "cell_type": "code",
   "execution_count": null,
   "metadata": {
    "collapsed": true
   },
   "outputs": [],
   "source": [
    "##  WebLinks \n",
    "\n",
    "# Decorators : http://simeonfranklin.com/blog/2012/jul/1/python-decorators-in-12-steps/ \n",
    "# Decorators\n",
    "# * https://docs.python.org/dev/library/functools.html\n",
    "# * http://www.artima.com/weblogs/viewpost.jsp?thread=240808\n"
   ]
  },
  {
   "cell_type": "code",
   "execution_count": 1,
   "metadata": {
    "collapsed": false
   },
   "outputs": [
    {
     "data": {
      "text/plain": [
       "True"
      ]
     },
     "execution_count": 1,
     "metadata": {},
     "output_type": "execute_result"
    }
   ],
   "source": [
    "# Check whether an object is callable \n",
    "callable(getattr)"
   ]
  },
  {
   "cell_type": "code",
   "execution_count": 2,
   "metadata": {
    "collapsed": false
   },
   "outputs": [
    {
     "data": {
      "text/plain": [
       "False"
      ]
     },
     "execution_count": 2,
     "metadata": {},
     "output_type": "execute_result"
    }
   ],
   "source": [
    "import os\n",
    "callable(os)"
   ]
  },
  {
   "cell_type": "code",
   "execution_count": 4,
   "metadata": {
    "collapsed": false
   },
   "outputs": [
    {
     "data": {
      "text/plain": [
       "{'In': ['',\n",
       "  u'callable(getattr)',\n",
       "  u'import os\\ncallable(os)',\n",
       "  u'# See Globals\\nglobals()',\n",
       "  u'# See Globals\\nglobals()'],\n",
       " 'Out': {1: True, 2: False, 3: {...}},\n",
       " '_': {...},\n",
       " '_1': True,\n",
       " '_2': False,\n",
       " '_3': {...},\n",
       " '__': False,\n",
       " '___': True,\n",
       " '__builtin__': <module '__builtin__' (built-in)>,\n",
       " '__builtins__': <module '__builtin__' (built-in)>,\n",
       " '__doc__': 'Automatically created module for IPython interactive environment',\n",
       " '__name__': '__main__',\n",
       " '__package__': None,\n",
       " '_dh': [u'/mnt/b/projects/new/github/notebooks'],\n",
       " '_i': u'# See Globals\\nglobals()',\n",
       " '_i1': u'callable(getattr)',\n",
       " '_i2': u'import os\\ncallable(os)',\n",
       " '_i3': u'# See Globals\\nglobals()',\n",
       " '_i4': u'# See Globals\\nglobals()',\n",
       " '_ih': ['',\n",
       "  u'callable(getattr)',\n",
       "  u'import os\\ncallable(os)',\n",
       "  u'# See Globals\\nglobals()',\n",
       "  u'# See Globals\\nglobals()'],\n",
       " '_ii': u'import os\\ncallable(os)',\n",
       " '_iii': u'callable(getattr)',\n",
       " '_oh': {1: True, 2: False, 3: {...}},\n",
       " '_sh': <module 'IPython.core.shadowns' from '/usr/local/lib/python2.7/dist-packages/IPython/core/shadowns.pyc'>,\n",
       " 'exit': <IPython.core.autocall.ZMQExitAutocall at 0x7fe8eb9b8390>,\n",
       " 'get_ipython': <bound method ZMQInteractiveShell.get_ipython of <ipykernel.zmqshell.ZMQInteractiveShell object at 0x7fe8eb9b2c10>>,\n",
       " 'os': <module 'os' from '/usr/lib/python2.7/os.pyc'>,\n",
       " 'quit': <IPython.core.autocall.ZMQExitAutocall at 0x7fe8eb9b8390>}"
      ]
     },
     "execution_count": 4,
     "metadata": {},
     "output_type": "execute_result"
    }
   ],
   "source": [
    "# See Globals\n",
    "globals()"
   ]
  },
  {
   "cell_type": "code",
   "execution_count": 5,
   "metadata": {
    "collapsed": false
   },
   "outputs": [
    {
     "data": {
      "text/plain": [
       "140638477921536"
      ]
     },
     "execution_count": 5,
     "metadata": {},
     "output_type": "execute_result"
    }
   ],
   "source": [
    "id(os)   # id  of an object "
   ]
  },
  {
   "cell_type": "code",
   "execution_count": 14,
   "metadata": {
    "collapsed": false
   },
   "outputs": [
    {
     "data": {
      "text/plain": [
       "<module 'csv' from '/usr/lib/python2.7/csv.pyc'>"
      ]
     },
     "execution_count": 14,
     "metadata": {},
     "output_type": "execute_result"
    }
   ],
   "source": [
    "# Importing Module Using Importlib \n",
    "# This is for importing a module by name string \n",
    "import sys\n",
    "from importlib  import import_module\n",
    "import_module('csv')  # import_module('modulename', 'packagename'=None) \n"
   ]
  },
  {
   "cell_type": "code",
   "execution_count": 2,
   "metadata": {
    "collapsed": true
   },
   "outputs": [],
   "source": [
    "#---------- Python Decorators--------------------\n",
    "# http://simeonfranklin.com/blog/2012/jul/1/python-decorators-in-12-steps/"
   ]
  },
  {
   "cell_type": "code",
   "execution_count": 3,
   "metadata": {
    "collapsed": false
   },
   "outputs": [
    {
     "name": "stdout",
     "output_type": "stream",
     "text": [
      "{'_dh': [u'/mnt/b/projects/new/github/notebooks'], '__': '', '_i': u'#---------- Python Decorators--------------------\\n# http://simeonfranklin.com/blog/2012/jul/1/python-decorators-in-12-steps/', 'quit': <IPython.core.autocall.ZMQExitAutocall object at 0x7fbe997dc390>, '__builtins__': <module '__builtin__' (built-in)>, '_ih': ['', u'#---------- Python Decorators--------------------\\n# http://simeonfranklin.com/blog/2012/jul/1/python-decorators-in-12-steps/', u'#---------- Python Decorators--------------------\\n# http://simeonfranklin.com/blog/2012/jul/1/python-decorators-in-12-steps/', u'# functions in  python \\ndef foo():\\n    return \"Hello, I am foo.\"\\n\\n# Functions create new scope \\na_string = \"Global Variable\"\\ndef foo1():\\n    print locals()\\n\\nprint locals()\\n\\nfoo1()'], '__builtin__': <module '__builtin__' (built-in)>, 'a_string': 'Global Variable', '__name__': '__main__', '___': '', 'foo1': <function foo1 at 0x7fbe980c8140>, '_': '', '_sh': <module 'IPython.core.shadowns' from '/usr/local/lib/python2.7/dist-packages/IPython/core/shadowns.pyc'>, '_i3': u'# functions in  python \\ndef foo():\\n    return \"Hello, I am foo.\"\\n\\n# Functions create new scope \\na_string = \"Global Variable\"\\ndef foo1():\\n    print locals()\\n\\nprint locals()\\n\\nfoo1()', '_i2': u'#---------- Python Decorators--------------------\\n# http://simeonfranklin.com/blog/2012/jul/1/python-decorators-in-12-steps/', '_i1': u'#---------- Python Decorators--------------------\\n# http://simeonfranklin.com/blog/2012/jul/1/python-decorators-in-12-steps/', '__doc__': 'Automatically created module for IPython interactive environment', '_iii': u'', 'exit': <IPython.core.autocall.ZMQExitAutocall object at 0x7fbe997dc390>, 'get_ipython': <bound method ZMQInteractiveShell.get_ipython of <ipykernel.zmqshell.ZMQInteractiveShell object at 0x7fbe997d6c10>>, '_ii': u'#---------- Python Decorators--------------------\\n# http://simeonfranklin.com/blog/2012/jul/1/python-decorators-in-12-steps/', 'In': ['', u'#---------- Python Decorators--------------------\\n# http://simeonfranklin.com/blog/2012/jul/1/python-decorators-in-12-steps/', u'#---------- Python Decorators--------------------\\n# http://simeonfranklin.com/blog/2012/jul/1/python-decorators-in-12-steps/', u'# functions in  python \\ndef foo():\\n    return \"Hello, I am foo.\"\\n\\n# Functions create new scope \\na_string = \"Global Variable\"\\ndef foo1():\\n    print locals()\\n\\nprint locals()\\n\\nfoo1()'], 'foo': <function foo at 0x7fbe980c8488>, '_oh': {}, 'Out': {}}\n",
      "{}\n"
     ]
    }
   ],
   "source": [
    "# functions in  python \n",
    "def foo():\n",
    "    return \"Hello, I am foo.\"\n",
    "\n",
    "# Functions create new scope \n",
    "a_string = \"Global Variable\"\n",
    "def foo1():\n",
    "    print locals()\n",
    "\n",
    "print locals()\n",
    "\n",
    "foo1()\n"
   ]
  },
  {
   "cell_type": "code",
   "execution_count": 7,
   "metadata": {
    "collapsed": false
   },
   "outputs": [
    {
     "name": "stdout",
     "output_type": "stream",
     "text": [
      "Global String 1\n",
      "Global String2 - Modified in func\n",
      "Global String 2\n"
     ]
    }
   ],
   "source": [
    "# Accessing Global Variable \n",
    "# A local var ( at LHS of assignment) creates \n",
    "# a var in local scope. Global var gets shadowed\n",
    "# Since a local var is created, it is an error to  \n",
    "# refer to local var before its created\n",
    "\n",
    "g_string1 = 'Global String 1'\n",
    "g_string2 = 'Global String 2'\n",
    "\n",
    "def func2():\n",
    "    print g_string1\n",
    "    # print g_string2  # error : reference var before assignment\n",
    "    # the following creates a local var\n",
    "    # hence is an error to refer g_string2 before this\n",
    "    # line\n",
    "    g_string2 = 'Global String2 - Modified in func'\n",
    "    print g_string2\n",
    "\n",
    "func2()\n",
    "print g_string2\n"
   ]
  },
  {
   "cell_type": "code",
   "execution_count": 8,
   "metadata": {
    "collapsed": true
   },
   "outputs": [],
   "source": [
    "# Parameter names becomes local variable  in  the function"
   ]
  },
  {
   "cell_type": "code",
   "execution_count": 9,
   "metadata": {
    "collapsed": false
   },
   "outputs": [
    {
     "name": "stdout",
     "output_type": "stream",
     "text": [
      "1\n"
     ]
    }
   ],
   "source": [
    "# Nested functions\n",
    "def outer():\n",
    "    x = 1\n",
    "    def inner():\n",
    "        # This function has access to enclosing scope\n",
    "        print x\n",
    "    inner()\n",
    "outer()"
   ]
  },
  {
   "cell_type": "code",
   "execution_count": 18,
   "metadata": {
    "collapsed": false
   },
   "outputs": [
    {
     "name": "stdout",
     "output_type": "stream",
     "text": [
      "I am local to outer\n"
     ]
    }
   ],
   "source": [
    "# Nested Functions\n",
    "# Function Closures\n",
    "# Inner functions defined in non-global scope \n",
    "# remember what thier enclosing namespaces looked\n",
    "# like at defintion time\n",
    "def outer():\n",
    "    x = 'I am local to outer'\n",
    "    def inner():\n",
    "        # This function has access to enclosing scope\n",
    "        print x\n",
    "    return inner\n",
    "\n",
    "infunc = outer()\n",
    "# The inner function carries over the enclosing scope\n",
    "infunc()\n",
    "    "
   ]
  },
  {
   "cell_type": "code",
   "execution_count": 17,
   "metadata": {
    "collapsed": false
   },
   "outputs": [
    {
     "name": "stdout",
     "output_type": "stream",
     "text": [
      "<type 'function'>\n"
     ]
    },
    {
     "data": {
      "text/plain": [
       "True"
      ]
     },
     "execution_count": 17,
     "metadata": {},
     "output_type": "execute_result"
    }
   ],
   "source": [
    "# Functions are first class objects\n",
    "# Functions can have attributes \n",
    "issubclass(int,object)\n",
    "def foo():\n",
    "    pass\n",
    "print foo.__class__\n",
    "issubclass(foo.__class__, object)"
   ]
  },
  {
   "cell_type": "code",
   "execution_count": 19,
   "metadata": {
    "collapsed": false
   },
   "outputs": [
    {
     "name": "stdout",
     "output_type": "stream",
     "text": [
      "1\n",
      "2\n"
     ]
    }
   ],
   "source": [
    "# outer can be viewed as a constructor for inner\n",
    "\n",
    "def outer(x):\n",
    "    def inner():\n",
    "        print x\n",
    "    return inner\n",
    "print1 = outer(1) # enclosing scope at definition time\n",
    "print2 = outer(2) \n",
    "print1()\n",
    "print2()\n",
    "    "
   ]
  },
  {
   "cell_type": "code",
   "execution_count": 21,
   "metadata": {
    "collapsed": false
   },
   "outputs": [
    {
     "name": "stdout",
     "output_type": "stream",
     "text": [
      "before some_func\n"
     ]
    },
    {
     "data": {
      "text/plain": [
       "2"
      ]
     },
     "execution_count": 21,
     "metadata": {},
     "output_type": "execute_result"
    }
   ],
   "source": [
    "# Decorators\n",
    "# A callable that takes a function as argument and returns \n",
    "# a replacement function\n",
    "\n",
    "def outer(some_func):\n",
    "    def inner():\n",
    "        print 'before some_func'\n",
    "        ret = some_func()\n",
    "        return ret + 1\n",
    "    return inner\n",
    "def foo():\n",
    "    return 1\n",
    "decorated = outer(foo)\n",
    "decorated()\n",
    "\n"
   ]
  },
  {
   "cell_type": "code",
   "execution_count": 25,
   "metadata": {
    "collapsed": false
   },
   "outputs": [
    {
     "name": "stdout",
     "output_type": "stream",
     "text": [
      "before some_func\n"
     ]
    },
    {
     "data": {
      "text/plain": [
       "2"
      ]
     },
     "execution_count": 25,
     "metadata": {},
     "output_type": "execute_result"
    }
   ],
   "source": [
    "# @ symbol applies a decorator to a function \n",
    "@outer\n",
    "def foo2():\n",
    "    return 1\n",
    "\n",
    "foo2()"
   ]
  },
  {
   "cell_type": "code",
   "execution_count": 26,
   "metadata": {
    "collapsed": false
   },
   "outputs": [
    {
     "name": "stdout",
     "output_type": "stream",
     "text": [
      "(1, 2, 3)\n"
     ]
    }
   ],
   "source": [
    "def one(*args):\n",
    "    print args\n",
    "\n",
    "one(1,2,3)\n"
   ]
  },
  {
   "cell_type": "code",
   "execution_count": 27,
   "metadata": {
    "collapsed": false
   },
   "outputs": [
    {
     "name": "stdout",
     "output_type": "stream",
     "text": [
      "a b ('c',)\n"
     ]
    }
   ],
   "source": [
    "def two(x,y, *args):\n",
    "    print x,y,args\n",
    "two('a', 'b', 'c')"
   ]
  },
  {
   "cell_type": "code",
   "execution_count": 30,
   "metadata": {
    "collapsed": false
   },
   "outputs": [
    {
     "name": "stdout",
     "output_type": "stream",
     "text": [
      "3\n",
      "3\n"
     ]
    }
   ],
   "source": [
    "def add(x,y):\n",
    "    return x+y\n",
    "lst =  [1,2]\n",
    "print add(lst[0], lst[1])\n",
    "print add(*lst)"
   ]
  },
  {
   "cell_type": "code",
   "execution_count": 32,
   "metadata": {
    "collapsed": false
   },
   "outputs": [
    {
     "name": "stdout",
     "output_type": "stream",
     "text": [
      "{}\n",
      "None\n",
      "{'y': 2, 'x': 1}\n",
      "None\n"
     ]
    }
   ],
   "source": [
    "def foo(**kwargs):\n",
    "    print kwargs\n",
    "print foo()\n",
    "print foo(x=1,y=2)"
   ]
  },
  {
   "cell_type": "code",
   "execution_count": 33,
   "metadata": {
    "collapsed": false
   },
   "outputs": [
    {
     "data": {
      "text/plain": [
       "3"
      ]
     },
     "execution_count": 33,
     "metadata": {},
     "output_type": "execute_result"
    }
   ],
   "source": [
    "dct = { 'x' : 1 , 'y' : 2}\n",
    "def bar(x,y):\n",
    "    return x+y\n",
    "bar(**dct)"
   ]
  },
  {
   "cell_type": "code",
   "execution_count": 35,
   "metadata": {
    "collapsed": false
   },
   "outputs": [
    {
     "name": "stdout",
     "output_type": "stream",
     "text": [
      "Args were :  (5, 4) , {}\n",
      "Args were :  (1,) , {}\n"
     ]
    },
    {
     "data": {
      "text/plain": [
       "1"
      ]
     },
     "execution_count": 35,
     "metadata": {},
     "output_type": "execute_result"
    }
   ],
   "source": [
    "# Generic decorator \n",
    "def logger(func):\n",
    "    def inner(*args, **kwargs):\n",
    "        print 'Args were :  %s , %s' % (args, kwargs)\n",
    "        return func(*args, **kwargs)\n",
    "    return inner\n",
    "@logger\n",
    "def foo1(x, y=1):\n",
    "    return x *y \n",
    "def foo2():\n",
    "    return 2\n",
    "foo1(5,4)\n",
    "foo1(1)\n",
    "    "
   ]
  },
  {
   "cell_type": "code",
   "execution_count": null,
   "metadata": {
    "collapsed": true
   },
   "outputs": [],
   "source": []
  }
 ],
 "metadata": {
  "kernelspec": {
   "display_name": "Python 2",
   "language": "python",
   "name": "python2"
  },
  "language_info": {
   "codemirror_mode": {
    "name": "ipython",
    "version": 2
   },
   "file_extension": ".py",
   "mimetype": "text/x-python",
   "name": "python",
   "nbconvert_exporter": "python",
   "pygments_lexer": "ipython2",
   "version": "2.7.6"
  }
 },
 "nbformat": 4,
 "nbformat_minor": 0
}
